{
 "cells": [
  {
   "cell_type": "markdown",
   "metadata": {},
   "source": [
    "# `flarestack` Test Minimization Notebook"
   ]
  },
  {
   "cell_type": "markdown",
   "metadata": {},
   "source": [
    "## 1. Directory Setup"
   ]
  },
  {
   "cell_type": "code",
   "execution_count": 1,
   "metadata": {},
   "outputs": [],
   "source": [
    "import logging\n",
    "logging.basicConfig(level='INFO')"
   ]
  },
  {
   "cell_type": "code",
   "execution_count": 2,
   "metadata": {},
   "outputs": [
    {
     "data": {
      "text/plain": [
       "'/Users/thomasahrens/Desktop/IceCube/flarestack/scratch'"
      ]
     },
     "execution_count": 2,
     "metadata": {},
     "output_type": "execute_result"
    }
   ],
   "source": [
    "import os\n",
    "os.environ['FLARESTACK_SCRATCH_DIR']"
   ]
  },
  {
   "cell_type": "code",
   "execution_count": 3,
   "metadata": {},
   "outputs": [
    {
     "name": "stderr",
     "output_type": "stream",
     "text": [
      "INFO:flarestack.shared:Scratch Directory is: /Users/thomasahrens/Desktop/IceCube/flarestack/scratch/flarestack__data/\n",
      "INFO:flarestack.shared:Found Directory: /Users/thomasahrens/Desktop/IceCube/flarestack/scratch/flarestack__data/\n",
      "INFO:flarestack.shared:Found Directory: /Users/thomasahrens/Desktop/IceCube/flarestack/scratch/flarestack__data/input/\n",
      "INFO:flarestack.shared:Found Directory: /Users/thomasahrens/Desktop/IceCube/flarestack/scratch/flarestack__data/storage/\n",
      "INFO:flarestack.shared:Found Directory: /Users/thomasahrens/Desktop/IceCube/flarestack/scratch/flarestack__data/output/\n",
      "INFO:flarestack.shared:Found Directory: /Users/thomasahrens/Desktop/IceCube/flarestack/scratch/flarestack__data/cluster/\n",
      "INFO:flarestack.shared:Found Directory: /Users/thomasahrens/Desktop/IceCube/flarestack/scratch/flarestack__data/input/pull_corrections/\n",
      "INFO:flarestack.shared:Found Directory: /Users/thomasahrens/Desktop/IceCube/flarestack/scratch/flarestack__data/cluster/logs/\n",
      "INFO:flarestack.shared:Found Directory: /Users/thomasahrens/Desktop/IceCube/flarestack/scratch/flarestack__data/input/catalogues/\n",
      "INFO:flarestack.shared:Found Directory: /Users/thomasahrens/Desktop/IceCube/flarestack/scratch/flarestack__data/input/acceptance_functions/\n",
      "INFO:flarestack.shared:Found Directory: /Users/thomasahrens/Desktop/IceCube/flarestack/scratch/flarestack__data/input/energy_pdf_splines/\n",
      "INFO:flarestack.shared:Found Directory: /Users/thomasahrens/Desktop/IceCube/flarestack/scratch/flarestack__data/storage/pickles/\n",
      "INFO:flarestack.shared:Found Directory: /Users/thomasahrens/Desktop/IceCube/flarestack/scratch/flarestack__data/output/plots/\n",
      "INFO:flarestack.shared:Found Directory: /Users/thomasahrens/Desktop/IceCube/flarestack/scratch/flarestack__data/input/SoB_splines/\n",
      "INFO:flarestack.shared:Found Directory: /Users/thomasahrens/Desktop/IceCube/flarestack/scratch/flarestack__data/input/analysis/\n",
      "INFO:flarestack.shared:Found Directory: /Users/thomasahrens/Desktop/IceCube/flarestack/scratch/flarestack__data/output/plots/illustrations/\n",
      "INFO:flarestack.shared:Found Directory: /Users/thomasahrens/Desktop/IceCube/flarestack/scratch/flarestack__data/input/catalogues/transients/\n",
      "INFO:flarestack.shared:Found Directory: /Users/thomasahrens/Desktop/IceCube/flarestack/scratch/flarestack__data/input/bkg_splines/\n",
      "INFO:flarestack.shared:Found Directory: /Users/thomasahrens/Desktop/IceCube/flarestack/scratch/flarestack__data/output/dataset_plots/\n",
      "INFO:flarestack.shared:Found Directory: /Users/thomasahrens/Desktop/IceCube/flarestack/scratch/flarestack__data/output/unblinding_results/\n",
      "INFO:flarestack.shared:Found Directory: /Users/thomasahrens/Desktop/IceCube/flarestack/scratch/flarestack__data/output/limits/\n",
      "INFO:flarestack.shared:Found Directory: /Users/thomasahrens/Desktop/IceCube/flarestack/scratch/flarestack__data/input/pull_corrections/pulls/\n",
      "INFO:flarestack.shared:Found Directory: /Users/thomasahrens/Desktop/IceCube/flarestack/scratch/flarestack__data/input/pull_corrections/floors/\n",
      "INFO:flarestack.shared:Found Directory: /Users/thomasahrens/Desktop/IceCube/flarestack/scratch/flarestack__data/storage/cache/\n",
      "INFO:flarestack.shared:Found Directory: /Users/thomasahrens/Desktop/IceCube/flarestack/scratch/flarestack__data/storage/cache/catalogue_cache/\n",
      "INFO:flarestack.shared:Found Directory: /Users/thomasahrens/Desktop/IceCube/flarestack/scratch/flarestack__data/input/public_datasets/\n",
      "INFO:flarestack.shared:Found Directory: /Users/thomasahrens/Desktop/IceCube/flarestack/scratch/flarestack__data/input/energy_proxy_weighting/\n",
      "INFO:flarestack.shared:Found Directory: /Users/thomasahrens/Desktop/IceCube/flarestack/scratch/flarestack__data/output/dataset_plots/effective_area_plots/\n",
      "INFO:flarestack.shared:Found Directory: /Users/thomasahrens/Desktop/IceCube/flarestack/scratch/flarestack__data/input/median_angular_resolution/\n",
      "INFO:flarestack.shared:Found Directory: /Users/thomasahrens/Desktop/IceCube/flarestack/scratch/flarestack__data/output/dataset_plots/angular_resolution_plots/\n",
      "INFO:flarestack.shared:Found Directory: /Users/thomasahrens/Desktop/IceCube/flarestack/scratch/flarestack__data/output/dataset_plots/energy_proxy_map/\n",
      "INFO:flarestack.shared:Found Directory: /Users/thomasahrens/Desktop/IceCube/flarestack/scratch/flarestack__data/input/sim_datasets/\n",
      "INFO:numexpr.utils:Note: NumExpr detected 10 cores but \"NUMEXPR_MAX_THREADS\" not set, so enforcing safe limit of 8.\n",
      "INFO:numexpr.utils:NumExpr defaulting to 8 threads.\n",
      "INFO:flarestack.data.icecube.ic_season:Loading datasets from /Users/thomasahrens/Desktop/IceCube/flarestack/datasets/ (local)\n"
     ]
    },
    {
     "name": "stdout",
     "output_type": "stream",
     "text": [
      "Running at None, data directory is /Users/thomasahrens/Desktop/IceCube/flarestack/datasets/\n"
     ]
    }
   ],
   "source": [
    "from flarestack.shared import host_server\n",
    "from flarestack.data.icecube.ic_season import icecube_dataset_dir\n",
    "print(f'Running at {host_server}, data directory is {icecube_dataset_dir}')"
   ]
  },
  {
   "cell_type": "code",
   "execution_count": 4,
   "metadata": {},
   "outputs": [
    {
     "name": "stdout",
     "output_type": "stream",
     "text": [
      "Scratch directory is /Users/thomasahrens/Desktop/IceCube/flarestack/scratch/flarestack__data/\n"
     ]
    }
   ],
   "source": [
    "from flarestack.shared import fs_scratch_dir\n",
    "print(f'Scratch directory is {fs_scratch_dir}')"
   ]
  },
  {
   "cell_type": "markdown",
   "metadata": {},
   "source": [
    "## 2. Flarestack Classes\n",
    "\n",
    "Classes used in $\\texttt{flarestack}$'s core functionality (e.g. `flarestack.core.energy_pdf.EnergyPDF`, `flarestack.core.minimisation.MinimisationHandler`, etc) have a class attribute `<class>.subclasses`.  \n",
    "This is a dictionary with the structure `{<subclass name>: <subclass>}`.  "
   ]
  },
  {
   "cell_type": "code",
   "execution_count": 5,
   "metadata": {},
   "outputs": [
    {
     "data": {
      "text/plain": [
       "{'fixed_weights': flarestack.core.minimisation.FixedWeightMinimisationHandler,\n",
       " 'large_catalogue': flarestack.core.minimisation.LargeCatalogueMinimisationHandler,\n",
       " 'fit_weights': flarestack.core.minimisation.FitWeightMinimisationHandler,\n",
       " 'fit_weights_mcmc': flarestack.core.minimisation.FitWeightMCMCMinimisationHandler,\n",
       " 'fit_weights_hmc': flarestack.core.minimisation.FitWeightHMCMinimisationHandler,\n",
       " 'flare': flarestack.core.minimisation.FlareMinimisationHandler}"
      ]
     },
     "execution_count": 5,
     "metadata": {},
     "output_type": "execute_result"
    }
   ],
   "source": [
    "from flarestack.core.minimisation import MinimisationHandler\n",
    "MinimisationHandler.subclasses"
   ]
  },
  {
   "cell_type": "markdown",
   "metadata": {},
   "source": [
    "For analyses we only have to pass a dictionary of the subclass names and corresponding parameters.  \n",
    "To execute use `flarestack.cluster.submitter.Submitter`. This always works locally. For using the cluster, again, if you are running at DESY or WIPAC, you do not have to worry. We got you covered."
   ]
  },
  {
   "cell_type": "code",
   "execution_count": 6,
   "metadata": {},
   "outputs": [
    {
     "data": {
      "text/plain": [
       "{'local': flarestack.cluster.submitter.LocalSubmitter,\n",
       " 'DESY': flarestack.cluster.submitter.DESYSubmitter,\n",
       " 'WIPAC': flarestack.cluster.submitter.WIPACSubmitter}"
      ]
     },
     "execution_count": 6,
     "metadata": {},
     "output_type": "execute_result"
    }
   ],
   "source": [
    "from flarestack.cluster.submitter import Submitter\n",
    "Submitter.submitter_dict"
   ]
  },
  {
   "cell_type": "markdown",
   "metadata": {},
   "source": [
    "## 3. Example: Point Source Sensitivity\n",
    "\n",
    "Let's try to calculate the 10-year point source sensitivity for our test catalogue.  \n",
    "The input directory (with the analysis dictionaries), the output directory (plots, p-values, etc) and the cache directory (saved trials, etc) will be created accordingly.   \n",
    "First we have to specify a name for the analysis."
   ]
  },
  {
   "cell_type": "code",
   "execution_count": 7,
   "metadata": {},
   "outputs": [],
   "source": [
    "from flarestack.shared import plot_output_dir, name_pickle_output_dir\n",
    "from glob import glob"
   ]
  },
  {
   "cell_type": "code",
   "execution_count": 8,
   "metadata": {},
   "outputs": [],
   "source": [
    "min_types = ('fixed',  # fixed_weights\n",
    "             'fit',    # fit_weights\n",
    "             'mcmc',   # fit_weights_mcmc\n",
    "             'hmc')    # NotImplemented\n",
    "\n",
    "def name_func(n_sources, gamma, min_type, scale, trials, etc=None):\n",
    "    \"\"\"Creates name for output analysis files. This is motivated\n",
    "    by the need to inspect run results for debugging purposes, \n",
    "    and is achieved by using unique names to refer to each run.\n",
    "    \n",
    "    :param n_sources: Number of sources in catalog\n",
    "    :type n_sources: int\n",
    "    \n",
    "    :param gamma: Spectral index\n",
    "    :type n_sources: float\n",
    "    \n",
    "    :param min_type: Minimization method (see MinimisationHandler.subclasses)\n",
    "    :type n_sources: str\n",
    "    \n",
    "    :param etc: Additional simulation/run info\n",
    "    :type n_sources: str\n",
    "    \n",
    "    :return path: Path used as name\n",
    "    :rtype path: str\n",
    "    \"\"\"\n",
    "    run_no = 1\n",
    "    \n",
    "    if min_type not in min_types:\n",
    "        raise ValueError(f'Provide valid minimizer: {min_types}')\n",
    "        \n",
    "    path = f'analyses/{n_sources}source_gamma{gamma}_{min_type}_{scale}_trials{trials}'\n",
    "    \n",
    "    if etc is not None:\n",
    "        path += f'_{etc:s}'\n",
    "        \n",
    "    path += f'_run{run_no}'\n",
    "    \n",
    "    path_exist = os.path.exists(plot_output_dir(path)) or os.path.exists(name_pickle_output_dir(path))\n",
    "    \n",
    "    if path_exist:\n",
    "        # Automatically covers cases where run_no == (n_sources or gamma)\n",
    "        glob_path = path.split(f'_run{run_no}')[0]\n",
    "        # Get all runs with same path\n",
    "        previous_runs = glob(f'{name_pickle_output_dir(glob_path)}*')\n",
    "        # Get run numbers for previous runs, convert strings to ints\n",
    "        run_nums = [int(i.split('_run')[1]) for i in previous_runs]\n",
    "        # Sort run numbers\n",
    "        run_nums.sort()\n",
    "        # Get last run number, increase index by 1\n",
    "        run_no = run_nums[-1] + 1\n",
    "        path = f'{glob_path}_run{run_no}'\n",
    "    else:\n",
    "        # Path DNE, unchanged path (run 1)\n",
    "        pass\n",
    "    \n",
    "    return path"
   ]
  },
  {
   "cell_type": "code",
   "execution_count": 9,
   "metadata": {},
   "outputs": [
    {
     "data": {
      "text/plain": [
       "'analyses/2source_gamma2.0_fit_sumscale_trials10_allseasons_decayattempt_run1'"
      ]
     },
     "execution_count": 9,
     "metadata": {},
     "output_type": "execute_result"
    }
   ],
   "source": [
    "name = name_func(n_sources=2, gamma=2.0, min_type='fit', \n",
    "                 scale='sumscale', trials=10, etc='allseasons_decayattempt')\n",
    "name"
   ]
  },
  {
   "cell_type": "markdown",
   "metadata": {},
   "source": [
    "Our plot output directories will be:"
   ]
  },
  {
   "cell_type": "code",
   "execution_count": 10,
   "metadata": {},
   "outputs": [
    {
     "data": {
      "text/plain": [
       "('/Users/thomasahrens/Desktop/IceCube/flarestack/scratch/flarestack__data/output/plots/analyses/2source_gamma2.0_fit_sumscale_trials10_allseasons_decayattempt_run1',\n",
       " '/Users/thomasahrens/Desktop/IceCube/flarestack/scratch/flarestack__data/storage/pickles/analyses/2source_gamma2.0_fit_sumscale_trials10_allseasons_decayattempt_run1')"
      ]
     },
     "execution_count": 10,
     "metadata": {},
     "output_type": "execute_result"
    }
   ],
   "source": [
    "from flarestack.shared import plot_output_dir, name_pickle_output_dir\n",
    "plot_output_dir(name), name_pickle_output_dir(name)"
   ]
  },
  {
   "cell_type": "markdown",
   "metadata": {},
   "source": [
    "Public 3-year point source data."
   ]
  },
  {
   "cell_type": "code",
   "execution_count": 11,
   "metadata": {},
   "outputs": [
    {
     "name": "stdout",
     "output_type": "stream",
     "text": [
      "('IC79-2010', <flarestack.data.public.icecube.PublicICSeason object at 0x17b5afd00>)\n",
      "('IC86-2011', <flarestack.data.public.icecube.PublicICSeason object at 0x17b5ad9f0>)\n",
      "('IC86-2012', <flarestack.data.public.icecube.PublicICSeason object at 0x17b5ad810>)\n"
     ]
    }
   ],
   "source": [
    "# from flarestack.data.icecube import ps_v003_p02\n",
    "from flarestack.data.public import icecube_ps_3_year\n",
    "\n",
    "for item in icecube_ps_3_year.items():\n",
    "    print(item)"
   ]
  },
  {
   "cell_type": "markdown",
   "metadata": {},
   "source": [
    "We want to inject a steady neutrino signal with a power law spectrum with $\\gamma=2.5$. For other Energy or Time PDFs check `flarestack.core.energy_pdf` and `flarestack.core.time_pdf`.   \\\n",
    "This is as straight forward as:"
   ]
  },
  {
   "cell_type": "code",
   "execution_count": 12,
   "metadata": {},
   "outputs": [],
   "source": [
    "injection_energy = {\n",
    "    \"energy_pdf_name\": \"power_law\",\n",
    "    \"gamma\": 2.0\n",
    "}\n",
    "\n",
    "injection_time = {\n",
    "    \"time_pdf_name\": \"steady\"\n",
    "}\n",
    "\n",
    "# Changed \"injection_sig_time_pdf\" to \"injection_time_pdf\" to try to get ride of key errors\n",
    "# Need to provide \"injection_spatial_pdf\" key here???\n",
    "# Also may need to provide \"decay_length\" key, but not clear where\n",
    "inj_kwargs = {\n",
    "    \"injection_energy_pdf\": injection_energy,\n",
    "    \"injection_sig_time_pdf\": injection_time\n",
    "}"
   ]
  },
  {
   "cell_type": "markdown",
   "metadata": {},
   "source": [
    "We are looking for a steady signal with a power law spectrum. \n",
    "We assume the background to be constant in time.  \n",
    "We want to use the \"standard\" point source likelihood. More likelihood implementations in `flarestack.core.llh`"
   ]
  },
  {
   "cell_type": "code",
   "execution_count": 13,
   "metadata": {},
   "outputs": [],
   "source": [
    "import numpy as np"
   ]
  },
  {
   "cell_type": "code",
   "execution_count": 14,
   "metadata": {},
   "outputs": [],
   "source": [
    "llh_time = {\n",
    "    \"time_pdf_name\": \"decay\",\n",
    "    \"decay_time\": np.inf,\n",
    "    \"decay_length\": np.inf\n",
    "}\n",
    "\n",
    "llh_energy = {\n",
    "    \"energy_pdf_name\": \"power_law\",\n",
    "}\n",
    "\n",
    "llh_time_bkg = {\n",
    "    \"time_pdf_name\": \"steady\"\n",
    "}\n",
    "\n",
    "llh_kwargs = {\n",
    "    \"llh_name\": \"standard\",\n",
    "    \"llh_energy_pdf\": llh_energy,\n",
    "    \"llh_sig_time_pdf\": llh_time,\n",
    "    \"llh_bkg_time_pdf\": llh_time_bkg\n",
    "}"
   ]
  },
  {
   "cell_type": "markdown",
   "metadata": {},
   "source": [
    "We need a source catalogue. This catalogue will be a numpy array stored as a `.npy` file and we only pass the filename.   \n",
    "For point sources the is a uitility function to generate dummy sources."
   ]
  },
  {
   "cell_type": "code",
   "execution_count": 15,
   "metadata": {},
   "outputs": [
    {
     "name": "stdout",
     "output_type": "stream",
     "text": [
      "your catalogue is located at /Users/thomasahrens/Desktop/IceCube/sn-search/catalog/test_catalogue_2.npy\n"
     ]
    },
    {
     "data": {
      "text/plain": [
       "array([(0.19872028, -0.24886844, 1., 1., nan, nan, nan, 2.04324986e+13, b'ASASSN-14il'),\n",
       "       (3.67889954, -0.67152028, 1., 1., nan, nan, nan, 1.64885347e+13, b'ASASSN-15ab')],\n",
       "      dtype=[('ra_rad', '<f8'), ('dec_rad', '<f8'), ('base_weight', '<f8'), ('injection_weight_modifier', '<f8'), ('ref_time_mjd', '<f8'), ('start_time_mjd', '<f8'), ('end_time_mjd', '<f8'), ('distance_mpc', '<f8'), ('source_name', 'S30')])"
      ]
     },
     "execution_count": 15,
     "metadata": {},
     "output_type": "execute_result"
    }
   ],
   "source": [
    "# from flarestack.utils.prepare_catalogue import ps_catalogue_name\n",
    "import numpy as np\n",
    "\n",
    "sindec = 0.5\n",
    "catalogue_path = \"/Users/thomasahrens/Desktop/IceCube/sn-search/catalog/test_catalogue_2.npy\"\n",
    "print(f'your catalogue is located at {catalogue_path}')\n",
    "catalogue = np.load(catalogue_path)\n",
    "catalogue"
   ]
  },
  {
   "cell_type": "markdown",
   "metadata": {},
   "source": [
    "Now we make a guess for our sensitivity.   \n",
    "Note: $\\texttt{flarestack}$ is using its own scale factor $k$."
   ]
  },
  {
   "cell_type": "code",
   "execution_count": 16,
   "metadata": {},
   "outputs": [
    {
     "data": {
      "text/plain": [
       "(999999999.9999999, 1.0)"
      ]
     },
     "execution_count": 16,
     "metadata": {},
     "output_type": "execute_result"
    }
   ],
   "source": [
    "from flarestack.shared import flux_to_k, k_to_flux\n",
    "flux_to_k(1), flux_to_k(1e-9)"
   ]
  },
  {
   "cell_type": "markdown",
   "metadata": {},
   "source": [
    "Here we know where the sensitivity should be. Because the analysis has been done before."
   ]
  },
  {
   "cell_type": "code",
   "execution_count": 17,
   "metadata": {},
   "outputs": [
    {
     "data": {
      "text/plain": [
       "array([ 6.24859081, 24.92108471])"
      ]
     },
     "execution_count": 17,
     "metadata": {},
     "output_type": "execute_result"
    }
   ],
   "source": [
    "logging.basicConfig(level='ERROR')\n",
    "from flarestack.icecube_utils.reference_sensitivity import reference_sensitivity\n",
    "scale = flux_to_k(reference_sensitivity(np.sin(catalogue['dec_rad']))) * 3\n",
    "scale"
   ]
  },
  {
   "cell_type": "markdown",
   "metadata": {},
   "source": [
    "Now we just have to put all the info into one dictionary to pass to the `MinimisationHandler`. Note that our scale guess is informed by the sum over the estimated scales from `flarestack.icecube_utils.reference_sensitivity`. "
   ]
  },
  {
   "cell_type": "code",
   "execution_count": 18,
   "metadata": {},
   "outputs": [],
   "source": [
    "mh_dict = {\n",
    "    \"name\": name,                                           # unique name for the analysis\n",
    "    \"mh_name\": \"fit_weights\",                               # name of the MinimisationHandler subclass\n",
    "    \"dataset\": icecube_ps_3_year.get_seasons(),             # the neutrino dataset\n",
    "    \"catalogue\": catalogue_path,                            # path to the .npy catalogue file\n",
    "    \"inj_dict\": inj_kwargs,                                 # info for the Injector\n",
    "    \"llh_dict\": llh_kwargs,                                 # info for the LLH\n",
    "    \"scale\": np.sum(scale),                                 # a guess for the sensitivity scale\n",
    "    \"n_trials\": 10,                                         # number of trials to run (background trials will be run ten times this number!)\n",
    "    \"n_steps\": 10,                                          # number of steps when injecting signal\n",
    "    \"allow_extrapolated_sensitivity\": True                  # allow extrapolation in the sensitivity calculation (here we do because we only run very few trials)\n",
    "}"
   ]
  },
  {
   "cell_type": "markdown",
   "metadata": {},
   "source": [
    "To execute the analysis we defined above we create a submitter instance"
   ]
  },
  {
   "cell_type": "code",
   "execution_count": 19,
   "metadata": {},
   "outputs": [
    {
     "name": "stderr",
     "output_type": "stream",
     "text": [
      "WARNING:flarestack.cluster.submitter:No submitter implemented for host server None! Using LocalSubmitter but you wont't be able to use cluster operations!\n"
     ]
    },
    {
     "name": "stdout",
     "output_type": "stream",
     "text": [
      "\n",
      "----- Submitter for analyses/2source_gamma2.0_fit_sumscale_trials10_allseasons_decayattempt_run1 -----\n",
      "not using cluster \n",
      "using 7 CPUs locally\n",
      "job-id: None \n",
      "no scale estimation \n",
      "\n"
     ]
    }
   ],
   "source": [
    "submitter = Submitter.get_submitter(\n",
    "    mh_dict=mh_dict,                         # the analysis info\n",
    "    use_cluster=False,                       # run it on the cluster if True\n",
    "    n_cpu=7,                                # number of LOCAL CPUs to use, NOTE: the number of cluster CPUs has to be specified in the cluster_kwargs!\n",
    "    do_sensitivity_scale_estimation=False,   # make a guess of the sensitivity scale, for options check flarestack.cluster.submitter\n",
    "    remove_old_results=True,                 # if you are running the analysis again and something changed, maybe you want to remove old trials?\n",
    "#   **cluster_kwargs                         # keyword arguments used when running the cluster, This depends on the cluster obviously\n",
    ")\n",
    "\n",
    "print(submitter)"
   ]
  },
  {
   "cell_type": "markdown",
   "metadata": {},
   "source": [
    "Energise ......"
   ]
  },
  {
   "cell_type": "code",
   "execution_count": 20,
   "metadata": {
    "scrolled": false
   },
   "outputs": [
    {
     "name": "stderr",
     "output_type": "stream",
     "text": [
      "WARNING:flarestack.cluster.submitter:Can not remove /Users/thomasahrens/Desktop/IceCube/flarestack/scratch/flarestack__data/storage/pickles/analyses/2source_gamma2.0_fit_sumscale_trials10_allseasons_decayattempt_run1! It is not a directory!\n",
      "WARNING:flarestack.cluster.submitter:Can not remove /Users/thomasahrens/Desktop/IceCube/flarestack/scratch/flarestack__data/storage/pickles/injection_values/analyses/2source_gamma2.0_fit_sumscale_trials10_allseasons_decayattempt_run1! It is not a directory!\n",
      "INFO:flarestack.core.minimisation:Using 'standard' LLH class\n",
      "INFO:flarestack.core.injector:Initialising Injector for IC79-2010\n",
      "INFO:flarestack.core.injector:Initialising Injector for IC86-2011\n",
      "INFO:flarestack.core.injector:Initialising Injector for IC86-2012\n",
      "INFO:flarestack.core.minimisation:Using 'standard' LLH class\n",
      "INFO:flarestack.core.minimisation:Using 'standard' LLH class\n",
      "INFO:flarestack.core.minimisation:Using 'standard' LLH class\n",
      "INFO:flarestack.core.minimisation:Using 'standard' LLH class\n",
      "INFO:flarestack.core.minimisation:Using 'standard' LLH class\n",
      "INFO:flarestack.core.minimisation:Using 'standard' LLH class\n",
      "INFO:flarestack.core.multiprocess_wrapper:Added 190 trials to queue. Now processing.\n",
      "INFO:flarestack.core.multiprocess_wrapper:190 tasks remaining.\n",
      "INFO:flarestack.core.minimisation:Using 'standard' LLH class\n",
      "ERROR:flarestack.core.time_pdf:\n",
      "integrating from 0.00 to 346.09. \n",
      "t = [55522.27261662 55517.53062071 55560.24939968 55580.2638459\n",
      " 55581.38792974 55510.2518875  55367.15437562 55415.91203616\n",
      " 55583.07433204 55480.78258182 55380.78958707 55640.22637181\n",
      " 55671.55641503 55619.16266141 55434.1983925  55465.52480621\n",
      " 55623.79219765 55536.39851462 55403.336977   55375.34086306\n",
      " 55574.13758176 55371.611273   55623.79465938 55421.71389273\n",
      " 55400.17899739 55671.53862246 55520.32846592 55561.52737079\n",
      " 55672.6589898  55517.66915849 55567.83610619 55671.19999031\n",
      " 55360.53386033 55615.62424069 55612.52362954 55686.7782277\n",
      " 55368.59718009 55534.43563214 55690.97853577 55564.13261233\n",
      " 55480.82306344 55394.19855465 55462.02252748 55609.88623949\n",
      " 55520.18480789 55485.53549597 55657.67436772 55402.35555544\n",
      " 55489.27049894 55625.96544501 55490.75155    55662.00482136\n",
      " 55668.57269739 55580.28192394 55663.51543735 55416.5481159\n",
      " 55379.97635076 55633.18000287 55501.38396566 55462.93732376\n",
      " 55495.78831884 55399.22046426 55349.09136436 55505.50993399\n",
      " 55442.42299134 55419.18295874 55576.25771598 55683.96422528\n",
      " 55463.44288328 55519.80996788 55539.68942369 55566.76209116\n",
      " 55517.4918121  55377.74020034 55573.4665733  55531.64567616\n",
      " 55651.98550708 55585.62744534 55428.52553809 55517.04580362\n",
      " 55632.46437607 55451.59806114 55425.97134913 55451.80668785\n",
      " 55641.23073004 55597.77412524 55581.52714203 55656.83643501\n",
      " 55511.08326639 55432.25386529 55390.14360643 55671.24725404\n",
      " 55376.64545996 55475.05385133 55509.61545748 55430.77876722\n",
      " 55651.75089471 55567.02164489 55351.87131603 55643.6998669\n",
      " 55677.30665743 55612.95101315 55691.115306   55669.53864722\n",
      " 55462.08476838 55368.40190239 55604.46602329 55397.28673092\n",
      " 55454.23302625 55496.53810348 55526.81228093 55469.32990556\n",
      " 55467.38583831 55396.72343641 55461.4338257  55441.42661346\n",
      " 55620.59159415 55468.51457664 55546.50690113 55534.18894346\n",
      " 55378.69698173 55541.37372738 55447.27485433 55445.39673796\n",
      " 55597.0191514  55487.45539496 55450.17463417 55386.92758548\n",
      " 55690.19546804 55521.51385193 55476.3455365  55349.49923228\n",
      " 55604.75374665 55468.29360866 55446.31874985 55576.52486804\n",
      " 55530.75719498 55424.13906441 55602.42447699 55595.08463608\n",
      " 55466.6442104  55611.41706239 55479.83298863 55590.45487718\n",
      " 55641.64025973 55433.96703064] \n",
      "t0 = 55348.31 \n",
      "t_pp=inf \n",
      "trunc=inf\n",
      "Process Process-2:\n",
      "Traceback (most recent call last):\n",
      "  File \"/Users/thomasahrens/opt/anaconda3/envs/hesnu/lib/python3.10/multiprocessing/process.py\", line 315, in _bootstrap\n",
      "    self.run()\n",
      "ERROR:flarestack.core.time_pdf:\n",
      "integrating from 0.00 to 346.09. \n",
      "t = [55607.69436219 55364.10792604 55621.7040359  55415.91203616\n",
      " 55612.05451638 55587.39937517 55684.56776531 55567.18441212\n",
      " 55444.53165658 55511.01886341 55636.79908812 55487.49090675\n",
      " 55584.57554336 55354.36978392 55599.87180628 55600.4292389\n",
      " 55509.94334715 55676.42770573 55628.5107762  55553.09592265\n",
      " 55353.40075098 55638.5912413  55689.12736888 55620.64780143\n",
      " 55655.48859114 55500.33884485 55610.05496652 55469.22093473\n",
      " 55390.03389931 55362.06504203 55594.17249654 55394.39892249\n",
      " 55535.48632317 55420.69239562 55631.27058068 55563.35202315\n",
      " 55431.33395332 55620.11124127 55611.92954119 55424.43705793\n",
      " 55625.66250561 55381.56953614 55386.63412735 55642.39362439\n",
      " 55606.07562532 55352.29077216 55685.21892386 55688.2946803\n",
      " 55576.52486804 55428.34305977 55537.95637782 55416.62540321\n",
      " 55575.80688529 55484.0000869  55660.79589101 55627.46786766\n",
      " 55411.30795085 55505.34499971 55565.80457094 55555.36484982\n",
      " 55640.49063107 55490.685515   55567.38190666 55404.47023805\n",
      " 55398.42030785 55407.14045739 55564.35914587 55655.34820103\n",
      " 55403.54564901 55502.95376078 55565.97923675 55540.6352523\n",
      " 55686.05122339 55677.75009704 55356.71899971 55361.32546338\n",
      " 55488.52280796 55422.82564219 55407.28096173 55351.29848234\n",
      " 55547.61810311 55661.25148812 55590.13292004 55361.81072951\n",
      " 55433.97052617 55522.51848033 55576.22978066 55464.42699277\n",
      " 55450.1650197  55509.78603232 55561.36803483 55431.21540114\n",
      " 55539.62488163 55369.4052856  55604.05781269 55654.10534193\n",
      " 55581.78775613 55625.74771212 55462.86954661 55369.1283623\n",
      " 55678.01234017 55636.23296648 55571.67057573 55462.71331021\n",
      " 55686.79984729 55534.97506301 55398.04533074 55503.32412522\n",
      " 55386.08092929 55557.17157002 55535.9677055  55590.69653605\n",
      " 55428.35634707 55611.85949714 55431.74299547 55550.67540221\n",
      " 55653.02157584 55682.08713727 55644.11515819 55642.69751493\n",
      " 55477.96230972 55622.68558115 55546.94873911 55621.61274213\n",
      " 55431.73278729 55580.54706483 55494.45132814 55380.43318082\n",
      " 55475.36169219 55458.17343917 55360.25052595 55398.92274261\n",
      " 55351.59279247 55513.22182525 55501.25104175 55569.47840758\n",
      " 55505.85967721 55637.18396549 55469.88319975 55445.2143816\n",
      " 55352.42489689 55484.18966538 55487.46016248 55387.16823204\n",
      " 55651.33913204 55528.13299826 55499.47496516 55357.33451372\n",
      " 55594.08069109 55581.34116488 55626.24465031 55689.35379675\n",
      " 55452.03892784 55371.19791089 55504.27797472 55619.15053115\n",
      " 55400.92281383 55678.125166   55387.08450353 55518.70339553\n",
      " 55565.52725472 55394.62768631 55532.4191712  55661.29741175] \n",
      "t0 = 55348.31 \n",
      "t_pp=inf \n",
      "trunc=inf\n",
      "Process Process-5:\n",
      "  File \"/Users/thomasahrens/opt/anaconda3/envs/hesnu/lib/python3.10/multiprocessing/process.py\", line 108, in run\n",
      "    self._target(*self._args, **self._kwargs)\n",
      "  File \"/Users/thomasahrens/Desktop/IceCube/flarestack/flarestack/core/multiprocess_wrapper.py\", line 102, in run_trial\n",
      "    mpmh.run_single(full_dataset, scale, seed)\n",
      "  File \"/Users/thomasahrens/Desktop/IceCube/flarestack/flarestack/core/minimisation.py\", line 555, in run_single\n",
      "    res_dict = self.run_trial(full_dataset)\n",
      "ERROR:flarestack.core.time_pdf:\n",
      "integrating from 0.00 to 346.09. \n",
      "t = [55482.33862302 55640.96366398 55530.82836649 55622.87404888\n",
      " 55483.73146059 55412.41758874 55502.37381491 55401.30157291\n",
      " 55420.62524381 55639.19747707 55461.21214953 55502.75087406\n",
      " 55518.79096043 55464.10179834 55502.69417977 55397.25412313\n",
      " 55642.32163496 55526.0579893  55384.24078616 55365.73447508\n",
      " 55687.26872481 55473.47254144 55357.05943271 55547.29000653\n",
      " 55607.02441017 55663.70537487 55422.36982802 55632.53755559\n",
      " 55581.49409266 55538.19942665 55684.16993421 55423.19426123\n",
      " 55650.52545838 55373.42937361 55599.42178611 55463.61792135\n",
      " 55389.41705473 55694.36881847 55572.69576478 55586.66618832\n",
      " 55441.89349528 55404.15173199 55603.05956908 55675.31465322\n",
      " 55494.97763698 55514.64143489 55582.42603751 55676.00300202\n",
      " 55484.11276687 55540.64100336 55656.70455776 55535.16513639\n",
      " 55494.97934914 55517.13895223 55356.29756843 55653.61425224\n",
      " 55509.08119518 55633.60886054 55425.95979049 55351.39324282\n",
      " 55599.02570661 55675.33459818 55653.78704491 55603.54182722\n",
      " 55519.41037195 55571.618696   55437.40642464 55351.36103037\n",
      " 55357.50748598 55563.78432592 55505.7885576  55432.92736593\n",
      " 55558.7721203  55500.60717252 55684.19106201 55470.41004943\n",
      " 55360.7373973  55600.62675717 55634.3723731  55604.59921605\n",
      " 55499.58300484 55617.32223719 55418.90880463 55409.1473572\n",
      " 55641.19230176 55612.69171694 55566.46132408 55484.11735184\n",
      " 55485.93549283 55401.71866042 55544.64696012 55513.6290111\n",
      " 55438.51260114 55645.74012669 55595.609329   55489.64957676\n",
      " 55661.91115976 55643.68517579 55506.48491977 55546.97958221\n",
      " 55420.26513369 55570.81955444 55657.27698578 55480.89626897\n",
      " 55423.58190508 55508.15183682 55425.3291034  55570.32433485\n",
      " 55632.77235901 55537.88547036 55574.45746142 55685.01691782\n",
      " 55643.52865665 55535.83263101 55515.17687151 55611.19591141\n",
      " 55694.26192843 55676.92203376 55405.11433864 55654.81523704\n",
      " 55672.04261035 55390.48269697 55412.98125862 55536.10819098\n",
      " 55607.73095423 55551.40058977 55602.06572206 55431.50253071\n",
      " 55615.09792551 55359.91538748 55474.45670998 55464.63091543\n",
      " 55586.26770047 55450.57132796 55426.72780623 55439.52534731\n",
      " 55470.76511528 55410.88321327 55434.31171469 55539.53800883\n",
      " 55403.8173909  55377.35321868 55440.12443401 55464.01682728\n",
      " 55482.62059663 55411.30777524 55493.6956646  55414.77420824] \n",
      "t0 = 55348.31 \n",
      "t_pp=inf \n",
      "trunc=inf\n"
     ]
    },
    {
     "name": "stderr",
     "output_type": "stream",
     "text": [
      "Traceback (most recent call last):\n",
      "  File \"/Users/thomasahrens/opt/anaconda3/envs/hesnu/lib/python3.10/multiprocessing/process.py\", line 315, in _bootstrap\n",
      "    self.run()\n",
      "  File \"/Users/thomasahrens/Desktop/IceCube/flarestack/flarestack/core/minimisation.py\", line 466, in run_trial\n",
      "    raw_f = self.trial_function(full_dataset)\n",
      "Process Process-4:\n",
      "  File \"/Users/thomasahrens/opt/anaconda3/envs/hesnu/lib/python3.10/multiprocessing/process.py\", line 108, in run\n",
      "    self._target(*self._args, **self._kwargs)\n",
      "  File \"/Users/thomasahrens/Desktop/IceCube/flarestack/flarestack/core/minimisation.py\", line 1356, in trial_function\n",
      "    llh_f = self.get_likelihood(name).create_llh_function(\n",
      "Traceback (most recent call last):\n",
      "  File \"/Users/thomasahrens/Desktop/IceCube/flarestack/flarestack/core/multiprocess_wrapper.py\", line 102, in run_trial\n",
      "    mpmh.run_single(full_dataset, scale, seed)\n",
      "  File \"/Users/thomasahrens/opt/anaconda3/envs/hesnu/lib/python3.10/multiprocessing/process.py\", line 315, in _bootstrap\n",
      "    self.run()\n",
      "  File \"/Users/thomasahrens/Desktop/IceCube/flarestack/flarestack/core/llh.py\", line 341, in create_llh_function\n",
      "    kwargs = self.create_kwargs(data, pull_corrector, weight_f)\n",
      "  File \"/Users/thomasahrens/Desktop/IceCube/flarestack/flarestack/core/llh.py\", line 879, in create_kwargs\n",
      "    sig = self.signal_pdf(source, coincident_data)\n",
      "  File \"/Users/thomasahrens/Desktop/IceCube/flarestack/flarestack/core/minimisation.py\", line 555, in run_single\n",
      "    res_dict = self.run_trial(full_dataset)\n",
      "  File \"/Users/thomasahrens/opt/anaconda3/envs/hesnu/lib/python3.10/multiprocessing/process.py\", line 108, in run\n",
      "    self._target(*self._args, **self._kwargs)\n",
      "  File \"/Users/thomasahrens/Desktop/IceCube/flarestack/flarestack/core/llh.py\", line 178, in signal_pdf\n",
      "    time_term = self.sig_time_pdf.f(cut_data[\"time\"], source)\n",
      "  File \"/Users/thomasahrens/Desktop/IceCube/flarestack/flarestack/core/minimisation.py\", line 466, in run_trial\n",
      "    raw_f = self.trial_function(full_dataset)\n",
      "  File \"/Users/thomasahrens/Desktop/IceCube/flarestack/flarestack/core/multiprocess_wrapper.py\", line 102, in run_trial\n",
      "    mpmh.run_single(full_dataset, scale, seed)\n",
      "  File \"/Users/thomasahrens/Desktop/IceCube/flarestack/flarestack/core/time_pdf.py\", line 813, in f\n",
      "    raise ValueError(\"Normalization factor <= 0!\")\n",
      "  File \"/Users/thomasahrens/Desktop/IceCube/flarestack/flarestack/core/minimisation.py\", line 1356, in trial_function\n",
      "    llh_f = self.get_likelihood(name).create_llh_function(\n",
      "  File \"/Users/thomasahrens/Desktop/IceCube/flarestack/flarestack/core/minimisation.py\", line 555, in run_single\n",
      "    res_dict = self.run_trial(full_dataset)\n",
      "  File \"/Users/thomasahrens/Desktop/IceCube/flarestack/flarestack/core/llh.py\", line 341, in create_llh_function\n",
      "    kwargs = self.create_kwargs(data, pull_corrector, weight_f)\n",
      "ValueError: Normalization factor <= 0!\n",
      "  File \"/Users/thomasahrens/Desktop/IceCube/flarestack/flarestack/core/minimisation.py\", line 466, in run_trial\n",
      "    raw_f = self.trial_function(full_dataset)\n",
      "  File \"/Users/thomasahrens/Desktop/IceCube/flarestack/flarestack/core/minimisation.py\", line 1356, in trial_function\n",
      "    llh_f = self.get_likelihood(name).create_llh_function(\n",
      "  File \"/Users/thomasahrens/Desktop/IceCube/flarestack/flarestack/core/llh.py\", line 879, in create_kwargs\n",
      "    sig = self.signal_pdf(source, coincident_data)\n",
      "  File \"/Users/thomasahrens/Desktop/IceCube/flarestack/flarestack/core/llh.py\", line 178, in signal_pdf\n",
      "    time_term = self.sig_time_pdf.f(cut_data[\"time\"], source)\n",
      "  File \"/Users/thomasahrens/Desktop/IceCube/flarestack/flarestack/core/llh.py\", line 341, in create_llh_function\n",
      "    kwargs = self.create_kwargs(data, pull_corrector, weight_f)\n",
      "  File \"/Users/thomasahrens/Desktop/IceCube/flarestack/flarestack/core/time_pdf.py\", line 813, in f\n",
      "    raise ValueError(\"Normalization factor <= 0!\")\n",
      "  File \"/Users/thomasahrens/Desktop/IceCube/flarestack/flarestack/core/llh.py\", line 879, in create_kwargs\n",
      "    sig = self.signal_pdf(source, coincident_data)\n",
      "  File \"/Users/thomasahrens/Desktop/IceCube/flarestack/flarestack/core/llh.py\", line 178, in signal_pdf\n",
      "    time_term = self.sig_time_pdf.f(cut_data[\"time\"], source)\n",
      "ValueError: Normalization factor <= 0!\n",
      "ERROR:flarestack.core.time_pdf:\n",
      "integrating from 0.00 to 346.09. \n",
      "t = [55447.73585937 55510.60369151 55581.36479265 55692.08690795\n",
      " 55467.60603799 55657.17701905 55601.30327425 55530.10383187\n",
      " 55355.20761609 55350.99367027 55599.48824194 55557.17536969\n",
      " 55441.67345658 55689.44656057 55643.97208157 55485.57185226\n",
      " 55644.59558124 55681.23453726 55409.1473572  55640.43992287\n",
      " 55512.59754826 55671.17358794 55465.03863381 55549.12412908\n",
      " 55568.28583584 55441.20437331 55350.54946407 55620.90731519\n",
      " 55608.48146572 55508.09420265 55502.41072356 55665.61609642\n",
      " 55641.90898846 55641.17089021 55572.69883709 55556.81350078\n",
      " 55473.04704304 55348.46197532 55648.11337597 55647.48633395\n",
      " 55579.64094467 55369.06383955 55667.58076598 55647.53267717\n",
      " 55646.36133248 55399.05397291 55569.99748647 55680.9307799\n",
      " 55558.66707934 55383.56107953 55537.0412108  55635.89789482\n",
      " 55384.05100402 55682.02037871 55449.82618605 55441.23402205\n",
      " 55679.98507597 55686.79174205 55575.18264467 55549.57259886\n",
      " 55590.98301288 55544.09804599 55477.47557021 55554.52078984\n",
      " 55682.68387918 55519.49433794 55650.72569677 55635.68940375\n",
      " 55382.17526505 55689.86332256 55475.84008156 55363.75059969\n",
      " 55354.23581759 55523.16052537 55562.75050276 55577.67627515\n",
      " 55634.28880609 55512.43105647 55370.52619944 55403.63262652\n",
      " 55547.72139608 55457.05473821 55659.70127163 55546.9192039\n",
      " 55599.33139578 55446.88928232 55558.83222167 55445.14522825\n",
      " 55531.16580266 55516.04335019 55598.02564237 55575.02246342\n",
      " 55637.34014602 55662.91573047 55483.41168484 55431.52825388\n",
      " 55575.15125696 55547.45165572 55387.05832605 55681.46836576\n",
      " 55478.67434691 55348.6997074  55579.85045816 55483.21892277\n",
      " 55642.91774749 55556.51910579 55687.32376745 55589.69203468\n",
      " 55590.85490107 55466.83203662 55563.41386709 55467.57404946\n",
      " 55470.053302   55684.20624275 55581.38999327 55692.58529634\n",
      " 55656.89951434 55654.4629335  55495.0717229  55433.17655144\n",
      " 55433.0920275  55598.83674552 55638.43908122 55683.63215025\n",
      " 55455.47201005 55528.73473486 55663.09181274 55455.19324109\n",
      " 55487.52043081 55439.89046028 55551.38527589 55678.5864046\n",
      " 55594.59924166 55440.62545949 55385.84052155 55514.71924192\n",
      " 55487.60155621 55641.02437179 55563.91904113 55625.60021623\n",
      " 55595.63375398 55690.8781524  55372.16280297 55595.42113295\n",
      " 55527.55427529 55645.24595813 55384.28131326 55576.71023387\n",
      " 55460.45363016 55439.32974135 55407.25596169 55400.02629723\n",
      " 55626.61492956 55411.38745033 55443.54547912] \n",
      "t0 = 55348.31 \n",
      "t_pp=inf \n",
      "trunc=inf\n",
      "ERROR:flarestack.core.time_pdf:\n",
      "integrating from 0.00 to 346.09. \n",
      "t = [55515.90964732 55528.28806704 55515.27242032 55483.6410351\n",
      " 55452.80536695 55423.20099816 55372.4433701  55352.01549626\n",
      " 55566.86146624 55447.28681514 55660.81085655 55685.39368124\n",
      " 55352.99719987 55569.79583355 55495.79390437 55470.03066709\n",
      " 55443.58803248 55382.80688892 55566.58418588 55481.56886208\n",
      " 55475.8544292  55525.71827626 55592.53670574 55400.06552177\n",
      " 55629.43932807 55411.15122023 55532.57377085 55520.92863325\n",
      " 55381.35215665 55381.13959165 55377.35193829 55419.22547116\n",
      " 55639.00939304 55397.58143939 55516.81056812 55648.04581586\n",
      " 55481.62417791 55549.04483887 55376.74154321 55471.04378797\n",
      " 55684.07593424 55557.92461209 55493.25402491 55415.43314808\n",
      " 55618.21551969 55516.07500489 55665.27820468 55489.89287507\n",
      " 55511.16946489 55606.12833557 55651.7828631  55454.25580194\n",
      " 55456.3256152  55367.31643589 55522.66337595 55668.34088997\n",
      " 55635.85182425 55437.03063658 55531.22391905 55446.79140239\n",
      " 55435.30945842 55463.15269595 55420.58104937 55356.11344104\n",
      " 55459.80806643 55454.02788014 55490.39343241 55640.24725172\n",
      " 55595.92520978 55379.36017882 55551.0765807  55585.14074762\n",
      " 55637.5832524  55433.43261363 55368.32535436 55682.40577904\n",
      " 55658.36336797 55395.52270697 55571.17366478 55540.7694282\n",
      " 55526.64731256 55676.39946409 55407.91090113 55544.55595674\n",
      " 55381.68632942 55368.02312727 55495.80069108 55610.06256964\n",
      " 55381.99780894 55488.9271429  55597.45118636 55538.49258116\n",
      " 55545.05277743 55604.88500744 55530.25963722 55655.87029004\n",
      " 55376.85972666 55407.08941593 55565.22586056 55651.03499076\n",
      " 55531.54784536 55633.26827958 55468.55282479 55606.35937054\n",
      " 55598.8276101  55574.98245335 55440.56363018 55508.66598575\n",
      " 55662.46914969 55491.75208782 55693.34295003 55535.79974442\n",
      " 55420.56160742 55668.95536294 55394.50722331 55443.70883224\n",
      " 55416.92612437 55623.19895722 55434.254997   55573.40220498\n",
      " 55368.80484331 55473.78836299 55396.32680242 55507.65671373\n",
      " 55470.99143456 55476.04127667 55595.40615218 55570.74249051\n",
      " 55502.00610388 55397.96244218 55370.71247797 55537.41779558\n",
      " 55693.61635957 55611.42378752 55566.0501644  55679.84785066\n",
      " 55569.61712869 55486.34508823 55504.19534613 55570.37651734\n",
      " 55381.53285143 55401.7785689  55408.12961129 55635.02088212\n",
      " 55500.12255534 55482.72095798 55419.235657   55381.11145655\n",
      " 55646.99065768 55571.86913481 55387.91431691 55489.02381512\n",
      " 55629.78844961 55428.0701727 ] \n",
      "t0 = 55348.31 \n",
      "t_pp=inf \n",
      "trunc=inf\n"
     ]
    },
    {
     "name": "stderr",
     "output_type": "stream",
     "text": [
      "  File \"/Users/thomasahrens/Desktop/IceCube/flarestack/flarestack/core/time_pdf.py\", line 813, in f\n",
      "    raise ValueError(\"Normalization factor <= 0!\")\n",
      "Process Process-1:\n",
      "Process Process-6:\n",
      "ERROR:flarestack.core.time_pdf:\n",
      "integrating from 0.00 to 346.09. \n",
      "t = [55491.4648064  55462.66254563 55403.50714949 55502.78708637\n",
      " 55615.20145587 55460.61365812 55502.96442065 55590.86360919\n",
      " 55430.82560317 55403.38292824 55487.47187443 55565.46348493\n",
      " 55575.18220605 55387.27510343 55686.27312248 55422.46160112\n",
      " 55379.81790634 55516.90201421 55550.76296826 55692.22198936\n",
      " 55438.14747125 55565.20043588 55540.98754562 55510.6476018\n",
      " 55406.08855926 55357.61272214 55417.67197833 55497.67420661\n",
      " 55353.52285747 55472.96948829 55541.07504252 55635.92924519\n",
      " 55678.04619264 55645.67468647 55637.27484864 55408.36411583\n",
      " 55526.70554615 55680.43277429 55624.25539323 55611.86898543\n",
      " 55393.00641253 55631.72574251 55484.51506078 55675.4566811\n",
      " 55465.03346052 55602.65870957 55694.35008786 55443.33508833\n",
      " 55363.54696224 55411.67542898 55657.04743768 55402.6400759\n",
      " 55634.81527274 55456.88500468 55431.57923337 55495.13662536\n",
      " 55403.62664393 55592.16085823 55424.787006   55464.10164099\n",
      " 55648.01476852 55527.36213735 55370.27106888 55449.03582333\n",
      " 55643.04835739 55510.30714002 55518.28558627 55421.68199725\n",
      " 55386.88177404 55649.30512017 55531.36135137 55357.21642177\n",
      " 55689.26519165 55500.24481291 55454.88103926 55624.15240855\n",
      " 55675.72665892 55465.38253064 55593.36679213 55623.23723058\n",
      " 55419.8384037  55401.85364448 55359.90763078 55348.5760876\n",
      " 55566.133362   55395.66848665 55418.89060837 55601.60154399\n",
      " 55432.34677224 55406.47440255 55515.21502073 55413.07058625\n",
      " 55348.31633031 55458.69430584 55475.76911944 55628.57019609\n",
      " 55388.61665316 55401.82399048 55487.42102487 55433.26159021\n",
      " 55380.98475369 55386.63616878 55390.07560104 55688.1969997\n",
      " 55489.33716868 55426.87210536 55495.54407573 55692.07313843\n",
      " 55446.83822183 55398.62987444 55490.2440622  55479.89816968\n",
      " 55541.79055598 55367.80468277 55481.97880878 55690.32391314\n",
      " 55484.3969174  55491.5043178  55682.1097958  55350.10367123\n",
      " 55365.04545946 55575.32874682 55372.39275235 55449.76216794\n",
      " 55556.00692279 55559.1152196  55419.00485636 55520.56472771\n",
      " 55473.15536905 55676.6318516  55626.60238585 55625.68767969\n",
      " 55383.64351569 55445.11531507 55614.30417955 55488.91629476\n",
      " 55662.85538506 55610.54108856 55587.66712884 55358.98636369\n",
      " 55412.30933707 55499.01341649 55660.90795792 55612.0015145\n",
      " 55589.69769036 55360.76461217 55359.17471777 55648.74007792\n",
      " 55375.75933636 55358.98977318 55516.47806729 55396.75569002\n",
      " 55396.03884899 55606.48425227 55383.03490863 55569.12260643\n",
      " 55570.35103331 55693.39236283 55623.92448859] \n",
      "t0 = 55348.31 \n",
      "t_pp=inf \n",
      "trunc=inf\n",
      "ValueError: Normalization factor <= 0!\n",
      "ERROR:flarestack.core.time_pdf:\n",
      "integrating from 0.00 to 346.09. \n",
      "t = [55656.33029832 55431.00958544 55404.79612872 55460.84006839\n",
      " 55361.53418504 55392.01195569 55602.90273309 55518.65436672\n",
      " 55349.26741686 55501.98022487 55355.57238726 55478.34513592\n",
      " 55568.23618902 55557.49031325 55477.03847027 55457.40269949\n",
      " 55448.38697717 55407.23956091 55625.82816753 55618.12646342\n",
      " 55548.75683935 55371.37088454 55348.61846034 55532.77254489\n",
      " 55670.94374961 55531.45432261 55348.47793856 55408.70920766\n",
      " 55574.79840862 55591.35017165 55397.18168874 55390.33122368\n",
      " 55412.63534916 55420.34194922 55533.18974722 55506.00360246\n",
      " 55424.37076076 55359.60652475 55554.36896333 55555.70316847\n",
      " 55646.25493459 55489.29136078 55609.82227862 55383.0250565\n",
      " 55602.62548655 55405.54873693 55476.51419729 55568.31186528\n",
      " 55509.88261929 55349.28507168 55566.62338347 55691.39016935\n",
      " 55603.24613107 55557.39823052 55489.43607858 55544.20035657\n",
      " 55442.72410179 55654.49250569 55458.4563544  55444.30776015\n",
      " 55474.09915795 55378.57965879 55552.84987541 55381.88139\n",
      " 55645.13814497 55528.31751334 55371.80909078 55660.85237873\n",
      " 55685.58468942 55634.15990255 55547.19078491 55446.25914998\n",
      " 55550.68894561 55554.49904724 55619.94008068 55451.88064084\n",
      " 55396.29728097 55455.0122219  55569.29211042 55363.7089246\n",
      " 55488.57777085 55406.5910581  55408.20819916 55655.68559659\n",
      " 55504.58947796 55693.53420033 55524.96056002 55508.82492584\n",
      " 55530.22092613 55388.58484538 55404.94663342 55355.20551379\n",
      " 55613.82045153 55514.52407326 55421.00063169 55449.95826841\n",
      " 55364.4541832  55631.65194895 55562.87901677 55599.39218415\n",
      " 55511.22406317 55375.00037517 55626.37236811 55633.55220207\n",
      " 55610.61033611 55572.09238554 55638.14555708 55602.38498573\n",
      " 55541.26918318 55352.85776778 55494.95173495 55416.33859309\n",
      " 55525.41136223 55474.28923443 55455.47201005 55485.93600758\n",
      " 55432.78958504 55389.54843924 55489.55639207 55558.48821067\n",
      " 55383.64351569 55365.50923278 55455.333424   55642.66431613\n",
      " 55393.28851387 55554.40125402 55616.89933499 55486.53100284\n",
      " 55678.93903709 55520.77003638 55496.1337204  55601.19919532\n",
      " 55389.32488372 55352.1087484  55351.72451591 55500.18965713\n",
      " 55462.92976637 55691.04120416 55679.39085062 55612.90170421\n",
      " 55627.84473318 55673.19712953 55674.7409407  55511.46390377\n",
      " 55660.85668037 55422.47072287 55453.98561859 55395.87734966\n",
      " 55619.73945557 55463.33819635 55559.70699197 55396.592097\n",
      " 55566.5202039  55385.81602987 55564.17763598 55564.00453958\n",
      " 55455.98757444 55660.47199031 55596.39577001 55479.40637081] \n",
      "t0 = 55348.31 \n",
      "t_pp=inf \n",
      "trunc=inf\n",
      "Traceback (most recent call last):\n",
      "Traceback (most recent call last):\n",
      "Process Process-7:\n",
      "Process Process-3:\n",
      "  File \"/Users/thomasahrens/opt/anaconda3/envs/hesnu/lib/python3.10/multiprocessing/process.py\", line 315, in _bootstrap\n",
      "    self.run()\n",
      "  File \"/Users/thomasahrens/opt/anaconda3/envs/hesnu/lib/python3.10/multiprocessing/process.py\", line 315, in _bootstrap\n",
      "    self.run()\n",
      "  File \"/Users/thomasahrens/opt/anaconda3/envs/hesnu/lib/python3.10/multiprocessing/process.py\", line 108, in run\n",
      "    self._target(*self._args, **self._kwargs)\n",
      "  File \"/Users/thomasahrens/opt/anaconda3/envs/hesnu/lib/python3.10/multiprocessing/process.py\", line 108, in run\n",
      "    self._target(*self._args, **self._kwargs)\n",
      "Traceback (most recent call last):\n",
      "Traceback (most recent call last):\n",
      "  File \"/Users/thomasahrens/Desktop/IceCube/flarestack/flarestack/core/multiprocess_wrapper.py\", line 102, in run_trial\n",
      "    mpmh.run_single(full_dataset, scale, seed)\n",
      "  File \"/Users/thomasahrens/Desktop/IceCube/flarestack/flarestack/core/multiprocess_wrapper.py\", line 102, in run_trial\n",
      "    mpmh.run_single(full_dataset, scale, seed)\n",
      "  File \"/Users/thomasahrens/opt/anaconda3/envs/hesnu/lib/python3.10/multiprocessing/process.py\", line 315, in _bootstrap\n",
      "    self.run()\n",
      "  File \"/Users/thomasahrens/opt/anaconda3/envs/hesnu/lib/python3.10/multiprocessing/process.py\", line 315, in _bootstrap\n",
      "    self.run()\n",
      "  File \"/Users/thomasahrens/Desktop/IceCube/flarestack/flarestack/core/minimisation.py\", line 555, in run_single\n",
      "    res_dict = self.run_trial(full_dataset)\n",
      "  File \"/Users/thomasahrens/Desktop/IceCube/flarestack/flarestack/core/minimisation.py\", line 555, in run_single\n",
      "    res_dict = self.run_trial(full_dataset)\n",
      "  File \"/Users/thomasahrens/opt/anaconda3/envs/hesnu/lib/python3.10/multiprocessing/process.py\", line 108, in run\n",
      "    self._target(*self._args, **self._kwargs)\n",
      "  File \"/Users/thomasahrens/opt/anaconda3/envs/hesnu/lib/python3.10/multiprocessing/process.py\", line 108, in run\n",
      "    self._target(*self._args, **self._kwargs)\n",
      "  File \"/Users/thomasahrens/Desktop/IceCube/flarestack/flarestack/core/minimisation.py\", line 466, in run_trial\n",
      "    raw_f = self.trial_function(full_dataset)\n",
      "  File \"/Users/thomasahrens/Desktop/IceCube/flarestack/flarestack/core/minimisation.py\", line 466, in run_trial\n",
      "    raw_f = self.trial_function(full_dataset)\n",
      "  File \"/Users/thomasahrens/Desktop/IceCube/flarestack/flarestack/core/multiprocess_wrapper.py\", line 102, in run_trial\n",
      "    mpmh.run_single(full_dataset, scale, seed)\n",
      "  File \"/Users/thomasahrens/Desktop/IceCube/flarestack/flarestack/core/minimisation.py\", line 1356, in trial_function\n",
      "    llh_f = self.get_likelihood(name).create_llh_function(\n",
      "  File \"/Users/thomasahrens/Desktop/IceCube/flarestack/flarestack/core/multiprocess_wrapper.py\", line 102, in run_trial\n",
      "    mpmh.run_single(full_dataset, scale, seed)\n",
      "  File \"/Users/thomasahrens/Desktop/IceCube/flarestack/flarestack/core/minimisation.py\", line 555, in run_single\n",
      "    res_dict = self.run_trial(full_dataset)\n"
     ]
    },
    {
     "name": "stderr",
     "output_type": "stream",
     "text": [
      "  File \"/Users/thomasahrens/Desktop/IceCube/flarestack/flarestack/core/minimisation.py\", line 1356, in trial_function\n",
      "    llh_f = self.get_likelihood(name).create_llh_function(\n",
      "  File \"/Users/thomasahrens/Desktop/IceCube/flarestack/flarestack/core/llh.py\", line 341, in create_llh_function\n",
      "    kwargs = self.create_kwargs(data, pull_corrector, weight_f)\n",
      "  File \"/Users/thomasahrens/Desktop/IceCube/flarestack/flarestack/core/minimisation.py\", line 555, in run_single\n",
      "    res_dict = self.run_trial(full_dataset)\n",
      "  File \"/Users/thomasahrens/Desktop/IceCube/flarestack/flarestack/core/llh.py\", line 341, in create_llh_function\n",
      "    kwargs = self.create_kwargs(data, pull_corrector, weight_f)\n",
      "  File \"/Users/thomasahrens/Desktop/IceCube/flarestack/flarestack/core/minimisation.py\", line 466, in run_trial\n",
      "    raw_f = self.trial_function(full_dataset)\n",
      "  File \"/Users/thomasahrens/Desktop/IceCube/flarestack/flarestack/core/llh.py\", line 879, in create_kwargs\n",
      "    sig = self.signal_pdf(source, coincident_data)\n",
      "  File \"/Users/thomasahrens/Desktop/IceCube/flarestack/flarestack/core/minimisation.py\", line 466, in run_trial\n",
      "    raw_f = self.trial_function(full_dataset)\n",
      "  File \"/Users/thomasahrens/Desktop/IceCube/flarestack/flarestack/core/llh.py\", line 879, in create_kwargs\n",
      "    sig = self.signal_pdf(source, coincident_data)\n",
      "  File \"/Users/thomasahrens/Desktop/IceCube/flarestack/flarestack/core/minimisation.py\", line 1356, in trial_function\n",
      "    llh_f = self.get_likelihood(name).create_llh_function(\n",
      "  File \"/Users/thomasahrens/Desktop/IceCube/flarestack/flarestack/core/llh.py\", line 178, in signal_pdf\n",
      "    time_term = self.sig_time_pdf.f(cut_data[\"time\"], source)\n",
      "  File \"/Users/thomasahrens/Desktop/IceCube/flarestack/flarestack/core/minimisation.py\", line 1356, in trial_function\n",
      "    llh_f = self.get_likelihood(name).create_llh_function(\n",
      "  File \"/Users/thomasahrens/Desktop/IceCube/flarestack/flarestack/core/llh.py\", line 178, in signal_pdf\n",
      "    time_term = self.sig_time_pdf.f(cut_data[\"time\"], source)\n",
      "  File \"/Users/thomasahrens/Desktop/IceCube/flarestack/flarestack/core/llh.py\", line 341, in create_llh_function\n",
      "    kwargs = self.create_kwargs(data, pull_corrector, weight_f)\n",
      "  File \"/Users/thomasahrens/Desktop/IceCube/flarestack/flarestack/core/time_pdf.py\", line 813, in f\n",
      "    raise ValueError(\"Normalization factor <= 0!\")\n",
      "  File \"/Users/thomasahrens/Desktop/IceCube/flarestack/flarestack/core/time_pdf.py\", line 813, in f\n",
      "    raise ValueError(\"Normalization factor <= 0!\")\n",
      "  File \"/Users/thomasahrens/Desktop/IceCube/flarestack/flarestack/core/llh.py\", line 879, in create_kwargs\n",
      "    sig = self.signal_pdf(source, coincident_data)\n",
      "  File \"/Users/thomasahrens/Desktop/IceCube/flarestack/flarestack/core/llh.py\", line 341, in create_llh_function\n",
      "    kwargs = self.create_kwargs(data, pull_corrector, weight_f)\n",
      "ValueError: Normalization factor <= 0!\n",
      "ValueError: Normalization factor <= 0!\n",
      "  File \"/Users/thomasahrens/Desktop/IceCube/flarestack/flarestack/core/llh.py\", line 178, in signal_pdf\n",
      "    time_term = self.sig_time_pdf.f(cut_data[\"time\"], source)\n",
      "  File \"/Users/thomasahrens/Desktop/IceCube/flarestack/flarestack/core/llh.py\", line 879, in create_kwargs\n",
      "    sig = self.signal_pdf(source, coincident_data)\n",
      "  File \"/Users/thomasahrens/Desktop/IceCube/flarestack/flarestack/core/time_pdf.py\", line 813, in f\n",
      "    raise ValueError(\"Normalization factor <= 0!\")\n",
      "  File \"/Users/thomasahrens/Desktop/IceCube/flarestack/flarestack/core/llh.py\", line 178, in signal_pdf\n",
      "    time_term = self.sig_time_pdf.f(cut_data[\"time\"], source)\n",
      "ValueError: Normalization factor <= 0!\n",
      "  File \"/Users/thomasahrens/Desktop/IceCube/flarestack/flarestack/core/time_pdf.py\", line 813, in f\n",
      "    raise ValueError(\"Normalization factor <= 0!\")\n",
      "ValueError: Normalization factor <= 0!\n"
     ]
    },
    {
     "ename": "KeyboardInterrupt",
     "evalue": "",
     "output_type": "error",
     "traceback": [
      "\u001b[0;31m---------------------------------------------------------------------------\u001b[0m",
      "\u001b[0;31mKeyboardInterrupt\u001b[0m                         Traceback (most recent call last)",
      "File \u001b[0;32m~/Desktop/IceCube/flarestack/flarestack/core/multiprocess_wrapper.py:144\u001b[0m, in \u001b[0;36mrun_multiprocess\u001b[0;34m(n_cpu, mh_dict)\u001b[0m\n\u001b[1;32m    143\u001b[0m \u001b[38;5;28;01mwith\u001b[39;00m MultiProcessor(n_cpu\u001b[38;5;241m=\u001b[39mn_cpu, mh_dict\u001b[38;5;241m=\u001b[39mmh_dict) \u001b[38;5;28;01mas\u001b[39;00m r:\n\u001b[0;32m--> 144\u001b[0m     \u001b[43mr\u001b[49m\u001b[38;5;241;43m.\u001b[39;49m\u001b[43mfill_queue\u001b[49m\u001b[43m(\u001b[49m\u001b[43m)\u001b[49m\n\u001b[1;32m    145\u001b[0m     r\u001b[38;5;241m.\u001b[39mterminate()\n",
      "File \u001b[0;32m~/Desktop/IceCube/flarestack/flarestack/core/multiprocess_wrapper.py:124\u001b[0m, in \u001b[0;36mMultiProcessor.fill_queue\u001b[0;34m(self)\u001b[0m\n\u001b[1;32m    123\u001b[0m     logger\u001b[38;5;241m.\u001b[39minfo(\u001b[38;5;124m\"\u001b[39m\u001b[38;5;132;01m{0}\u001b[39;00m\u001b[38;5;124m tasks remaining.\u001b[39m\u001b[38;5;124m\"\u001b[39m\u001b[38;5;241m.\u001b[39mformat(\u001b[38;5;28mself\u001b[39m\u001b[38;5;241m.\u001b[39mn_tasks\u001b[38;5;241m.\u001b[39mvalue))\n\u001b[0;32m--> 124\u001b[0m     \u001b[43mtime\u001b[49m\u001b[38;5;241;43m.\u001b[39;49m\u001b[43msleep\u001b[49m\u001b[43m(\u001b[49m\u001b[38;5;241;43m30\u001b[39;49m\u001b[43m)\u001b[49m\n\u001b[1;32m    125\u001b[0m logger\u001b[38;5;241m.\u001b[39minfo(\u001b[38;5;124m\"\u001b[39m\u001b[38;5;124mFinished processing \u001b[39m\u001b[38;5;132;01m{0}\u001b[39;00m\u001b[38;5;124m tasks.\u001b[39m\u001b[38;5;124m\"\u001b[39m\u001b[38;5;241m.\u001b[39mformat(n_tasks))\n",
      "\u001b[0;31mKeyboardInterrupt\u001b[0m: ",
      "\nDuring handling of the above exception, another exception occurred:\n",
      "\u001b[0;31mKeyboardInterrupt\u001b[0m                         Traceback (most recent call last)",
      "Input \u001b[0;32mIn [20]\u001b[0m, in \u001b[0;36m<cell line: 1>\u001b[0;34m()\u001b[0m\n\u001b[0;32m----> 1\u001b[0m \u001b[43msubmitter\u001b[49m\u001b[38;5;241;43m.\u001b[39;49m\u001b[43manalyse\u001b[49m\u001b[43m(\u001b[49m\u001b[43m)\u001b[49m\n",
      "File \u001b[0;32m~/Desktop/IceCube/flarestack/flarestack/cluster/submitter.py:236\u001b[0m, in \u001b[0;36mSubmitter.analyse\u001b[0;34m(self, do_disc)\u001b[0m\n\u001b[1;32m    233\u001b[0m     \u001b[38;5;28;01melse\u001b[39;00m:\n\u001b[1;32m    234\u001b[0m         \u001b[38;5;28mself\u001b[39m\u001b[38;5;241m.\u001b[39mmh_dict[\u001b[38;5;124m\"\u001b[39m\u001b[38;5;124mscale\u001b[39m\u001b[38;5;124m\"\u001b[39m] \u001b[38;5;241m=\u001b[39m \u001b[38;5;28mself\u001b[39m\u001b[38;5;241m.\u001b[39mdisc_guess \u001b[38;5;241m/\u001b[39m \u001b[38;5;241m0.5\u001b[39m\n\u001b[0;32m--> 236\u001b[0m \u001b[38;5;28;43mself\u001b[39;49m\u001b[38;5;241;43m.\u001b[39;49m\u001b[43msubmit\u001b[49m\u001b[43m(\u001b[49m\u001b[38;5;28;43mself\u001b[39;49m\u001b[38;5;241;43m.\u001b[39;49m\u001b[43mmh_dict\u001b[49m\u001b[43m)\u001b[49m\n",
      "File \u001b[0;32m~/Desktop/IceCube/flarestack/flarestack/cluster/submitter.py:88\u001b[0m, in \u001b[0;36mSubmitter.submit\u001b[0;34m(self, mh_dict)\u001b[0m\n\u001b[1;32m     86\u001b[0m     \u001b[38;5;28mself\u001b[39m\u001b[38;5;241m.\u001b[39msubmit_cluster(mh_dict)\n\u001b[1;32m     87\u001b[0m \u001b[38;5;28;01melse\u001b[39;00m:\n\u001b[0;32m---> 88\u001b[0m     \u001b[38;5;28;43mself\u001b[39;49m\u001b[38;5;241;43m.\u001b[39;49m\u001b[43msubmit_local\u001b[49m\u001b[43m(\u001b[49m\u001b[43mmh_dict\u001b[49m\u001b[43m)\u001b[49m\n",
      "File \u001b[0;32m~/Desktop/IceCube/flarestack/flarestack/cluster/submitter.py:80\u001b[0m, in \u001b[0;36mSubmitter.submit_local\u001b[0;34m(self, mh_dict)\u001b[0m\n\u001b[1;32m     78\u001b[0m make_analysis_pickle(mh_dict)\n\u001b[1;32m     79\u001b[0m n_cpu \u001b[38;5;241m=\u001b[39m \u001b[38;5;28mmin\u001b[39m(\u001b[38;5;28mself\u001b[39m\u001b[38;5;241m.\u001b[39mn_cpu, os\u001b[38;5;241m.\u001b[39mcpu_count() \u001b[38;5;241m-\u001b[39m \u001b[38;5;241m1\u001b[39m)\n\u001b[0;32m---> 80\u001b[0m \u001b[43mrun_multiprocess\u001b[49m\u001b[43m(\u001b[49m\u001b[43mn_cpu\u001b[49m\u001b[38;5;241;43m=\u001b[39;49m\u001b[43mn_cpu\u001b[49m\u001b[43m,\u001b[49m\u001b[43m \u001b[49m\u001b[43mmh_dict\u001b[49m\u001b[38;5;241;43m=\u001b[39;49m\u001b[43mmh_dict\u001b[49m\u001b[43m)\u001b[49m\n",
      "File \u001b[0;32m~/Desktop/IceCube/flarestack/flarestack/core/multiprocess_wrapper.py:143\u001b[0m, in \u001b[0;36mrun_multiprocess\u001b[0;34m(n_cpu, mh_dict)\u001b[0m\n\u001b[1;32m    142\u001b[0m \u001b[38;5;28;01mdef\u001b[39;00m \u001b[38;5;21mrun_multiprocess\u001b[39m(n_cpu, mh_dict):\n\u001b[0;32m--> 143\u001b[0m     \u001b[38;5;28;01mwith\u001b[39;00m MultiProcessor(n_cpu\u001b[38;5;241m=\u001b[39mn_cpu, mh_dict\u001b[38;5;241m=\u001b[39mmh_dict) \u001b[38;5;28;01mas\u001b[39;00m r:\n\u001b[1;32m    144\u001b[0m         r\u001b[38;5;241m.\u001b[39mfill_queue()\n\u001b[1;32m    145\u001b[0m         r\u001b[38;5;241m.\u001b[39mterminate()\n",
      "File \u001b[0;32m~/Desktop/IceCube/flarestack/flarestack/core/multiprocess_wrapper.py:139\u001b[0m, in \u001b[0;36mMultiProcessor.__exit__\u001b[0;34m(self, exc_type, exc_val, exc_tb)\u001b[0m\n\u001b[1;32m    138\u001b[0m \u001b[38;5;28;01mdef\u001b[39;00m \u001b[38;5;21m__exit__\u001b[39m(\u001b[38;5;28mself\u001b[39m, exc_type, exc_val, exc_tb):\n\u001b[0;32m--> 139\u001b[0m     \u001b[38;5;28;43mself\u001b[39;49m\u001b[38;5;241;43m.\u001b[39;49m\u001b[43mterminate\u001b[49m\u001b[43m(\u001b[49m\u001b[43m)\u001b[49m\n",
      "File \u001b[0;32m~/Desktop/IceCube/flarestack/flarestack/core/multiprocess_wrapper.py:129\u001b[0m, in \u001b[0;36mMultiProcessor.terminate\u001b[0;34m(self)\u001b[0m\n\u001b[1;32m    127\u001b[0m \u001b[38;5;28;01mdef\u001b[39;00m \u001b[38;5;21mterminate\u001b[39m(\u001b[38;5;28mself\u001b[39m):\n\u001b[1;32m    128\u001b[0m     \u001b[38;5;124;03m\"\"\"wait until queue is empty and terminate processes\"\"\"\u001b[39;00m\n\u001b[0;32m--> 129\u001b[0m     \u001b[38;5;28;43mself\u001b[39;49m\u001b[38;5;241;43m.\u001b[39;49m\u001b[43mqueue\u001b[49m\u001b[38;5;241;43m.\u001b[39;49m\u001b[43mjoin\u001b[49m\u001b[43m(\u001b[49m\u001b[43m)\u001b[49m\n\u001b[1;32m    130\u001b[0m     \u001b[38;5;28;01mfor\u001b[39;00m p \u001b[38;5;129;01min\u001b[39;00m \u001b[38;5;28mself\u001b[39m\u001b[38;5;241m.\u001b[39mprocesses:\n\u001b[1;32m    131\u001b[0m         p\u001b[38;5;241m.\u001b[39mterminate()\n",
      "File \u001b[0;32m~/opt/anaconda3/envs/hesnu/lib/python3.10/multiprocessing/queues.py:332\u001b[0m, in \u001b[0;36mJoinableQueue.join\u001b[0;34m(self)\u001b[0m\n\u001b[1;32m    330\u001b[0m \u001b[38;5;28;01mwith\u001b[39;00m \u001b[38;5;28mself\u001b[39m\u001b[38;5;241m.\u001b[39m_cond:\n\u001b[1;32m    331\u001b[0m     \u001b[38;5;28;01mif\u001b[39;00m \u001b[38;5;129;01mnot\u001b[39;00m \u001b[38;5;28mself\u001b[39m\u001b[38;5;241m.\u001b[39m_unfinished_tasks\u001b[38;5;241m.\u001b[39m_semlock\u001b[38;5;241m.\u001b[39m_is_zero():\n\u001b[0;32m--> 332\u001b[0m         \u001b[38;5;28;43mself\u001b[39;49m\u001b[38;5;241;43m.\u001b[39;49m\u001b[43m_cond\u001b[49m\u001b[38;5;241;43m.\u001b[39;49m\u001b[43mwait\u001b[49m\u001b[43m(\u001b[49m\u001b[43m)\u001b[49m\n",
      "File \u001b[0;32m~/opt/anaconda3/envs/hesnu/lib/python3.10/multiprocessing/synchronize.py:261\u001b[0m, in \u001b[0;36mCondition.wait\u001b[0;34m(self, timeout)\u001b[0m\n\u001b[1;32m    257\u001b[0m     \u001b[38;5;28mself\u001b[39m\u001b[38;5;241m.\u001b[39m_lock\u001b[38;5;241m.\u001b[39mrelease()\n\u001b[1;32m    259\u001b[0m \u001b[38;5;28;01mtry\u001b[39;00m:\n\u001b[1;32m    260\u001b[0m     \u001b[38;5;66;03m# wait for notification or timeout\u001b[39;00m\n\u001b[0;32m--> 261\u001b[0m     \u001b[38;5;28;01mreturn\u001b[39;00m \u001b[38;5;28;43mself\u001b[39;49m\u001b[38;5;241;43m.\u001b[39;49m\u001b[43m_wait_semaphore\u001b[49m\u001b[38;5;241;43m.\u001b[39;49m\u001b[43macquire\u001b[49m\u001b[43m(\u001b[49m\u001b[38;5;28;43;01mTrue\u001b[39;49;00m\u001b[43m,\u001b[49m\u001b[43m \u001b[49m\u001b[43mtimeout\u001b[49m\u001b[43m)\u001b[49m\n\u001b[1;32m    262\u001b[0m \u001b[38;5;28;01mfinally\u001b[39;00m:\n\u001b[1;32m    263\u001b[0m     \u001b[38;5;66;03m# indicate that this thread has woken\u001b[39;00m\n\u001b[1;32m    264\u001b[0m     \u001b[38;5;28mself\u001b[39m\u001b[38;5;241m.\u001b[39m_woken_count\u001b[38;5;241m.\u001b[39mrelease()\n",
      "\u001b[0;31mKeyboardInterrupt\u001b[0m: "
     ]
    }
   ],
   "source": [
    "submitter.analyse()"
   ]
  },
  {
   "cell_type": "markdown",
   "metadata": {},
   "source": [
    "To get the results we use the `ResultsHandler()`. This will also create some plots like the sensitivity fit, bias plots, etc. in the plot directory. If `OverfluctuationError`, set `do_sens=False` and `do_disc=False` in `ResultsHandler()` object.\n",
    "\n",
    "```do_sens=False, do_disc=False```"
   ]
  },
  {
   "cell_type": "code",
   "execution_count": null,
   "metadata": {},
   "outputs": [],
   "source": [
    "from flarestack.core.results import ResultsHandler\n",
    "results_handler = ResultsHandler(submitter.mh_dict)"
   ]
  },
  {
   "cell_type": "code",
   "execution_count": null,
   "metadata": {},
   "outputs": [],
   "source": [
    "print(fr'sensitivity flux: {results_handler.sensitivity:<10.2e} '\n",
    "      fr'+{results_handler.sensitivity_err[1]:<10.2e} '\n",
    "      fr'-{results_handler.sensitivity_err[0]:<10.2e}')\n",
    "print(f'reference: {reference_sensitivity(sindec)[0]:>15.2e}')\n",
    "print(fr'sensitivity n_s:  {results_handler.sensitivity * results_handler.flux_to_ns:<10.2e} '\n",
    "      fr'+{results_handler.sensitivity_err[1] * results_handler.flux_to_ns:<9.4f}  '\n",
    "      fr'-{results_handler.sensitivity_err[0] * results_handler.flux_to_ns:<9.4f}')"
   ]
  },
  {
   "cell_type": "markdown",
   "metadata": {},
   "source": [
    "# Repeat analysis using MCMC\n",
    "`n_trials` has been reduced in order to run this notebook more easily, `n_trials = 100` has been used for testing purposes."
   ]
  },
  {
   "cell_type": "markdown",
   "metadata": {},
   "source": [
    "### Find MCMC seed values\n",
    "\n",
    "Seed the MCMC around the maximum LLH fround by the `fit_weights` minimizer. Copy `mu` and `std` lists into MCMC minimizer class."
   ]
  },
  {
   "cell_type": "code",
   "execution_count": null,
   "metadata": {},
   "outputs": [],
   "source": [
    "from glob import glob\n",
    "import pickle"
   ]
  },
  {
   "cell_type": "code",
   "execution_count": null,
   "metadata": {},
   "outputs": [],
   "source": [
    "def means_and_dev(name):\n",
    "    \"\"\"Calculates mean and standard deviation from `fit_weights` minimizer\n",
    "    to then be input into `fit_weights_mcmc` minimizer.\n",
    "    \n",
    "    :param name: Analysis run name\n",
    "    :type name: str\n",
    "    \n",
    "    :return mu: List of average parameter (n_s, gamma) values\n",
    "    :rtype mu: list\n",
    "    \n",
    "    :return std: List of parameter (n_s, gamma) standard deviations\n",
    "    :rtype std: list\n",
    "    \"\"\"\n",
    "    path_to_pickles = os.path.join(name_pickle_output_dir(name), 'merged')\n",
    "    pickles = glob(os.path.join(path_to_pickles, '*.pkl'))\n",
    "    key_arrays = {}\n",
    "    \n",
    "    for pkl in pickles:\n",
    "        pickle_path = pkl\n",
    "\n",
    "        with open(pickle_path, 'rb') as file:\n",
    "            pickle_data = pickle.load(file)\n",
    "\n",
    "        if not key_arrays:\n",
    "            key_arrays = {key:[] for key in pickle_data['Parameters'].keys()}\n",
    "\n",
    "        for key, data in pickle_data['Parameters'].items():\n",
    "                key_arrays[key].append(data)\n",
    "        \n",
    "    mu = []\n",
    "    std = []\n",
    "\n",
    "    for key, data in key_arrays.items():\n",
    "        key_arrays[key] = np.array(sum(key_arrays[key], []))\n",
    "        mu.append(float(f'{np.mean(key_arrays[key]):0.4f}'))\n",
    "        std.append(float(f'{np.std(key_arrays[key]):0.4f}'))\n",
    "\n",
    "    print(f\"mu = {mu}\")\n",
    "    print(f\"std = {std}\")"
   ]
  },
  {
   "cell_type": "code",
   "execution_count": null,
   "metadata": {},
   "outputs": [],
   "source": [
    "means_and_dev(name)"
   ]
  },
  {
   "cell_type": "markdown",
   "metadata": {},
   "source": [
    "### Setup MCMC"
   ]
  },
  {
   "cell_type": "code",
   "execution_count": null,
   "metadata": {},
   "outputs": [],
   "source": [
    "name = name_func(n_sources=2, gamma=2.0, min_type='mcmc', \n",
    "                 scale='sumscale', etc='trials10_allseasons')\n",
    "name"
   ]
  },
  {
   "cell_type": "code",
   "execution_count": null,
   "metadata": {},
   "outputs": [],
   "source": [
    "mh_dict = {\n",
    "    \"name\": name,                                           # unique name for the analysis\n",
    "    \"mh_name\": \"fit_weights_mcmc\",                          # name of the MinimisationHandler subclass\n",
    "    \"dataset\": icecube_ps_3_year.get_seasons(),  # the neutrino dataset\n",
    "    \"catalogue\": catalogue_path,                            # path to the .npy catalogue file\n",
    "    \"inj_dict\": inj_kwargs,                                 # info for the Injector\n",
    "    \"llh_dict\": llh_kwargs,                                 # info for the LLH\n",
    "    \"scale\": np.sum(scale),                                 # a guess for the sensitivity scale\n",
    "    \"n_trials\": 10,                                         # number of trials to run (background trials will be run ten times this number!)\n",
    "    \"n_steps\": 10,                                          # number of steps when injecting signal\n",
    "    \"allow_extrapolated_sensitivity\": True                  # allow extrapolation in the sensitivity calculation (here we do because we only run very few trials)\n",
    "}"
   ]
  },
  {
   "cell_type": "code",
   "execution_count": null,
   "metadata": {},
   "outputs": [],
   "source": [
    "submitter = Submitter.get_submitter(\n",
    "    mh_dict=mh_dict,                         # the analysis info\n",
    "    use_cluster=False,                       # run it on the cluster if True\n",
    "    n_cpu=7,                                # number of LOCAL CPUs to use, NOTE: the number of cluster CPUs has to be specified in the cluster_kwargs!\n",
    "    do_sensitivity_scale_estimation=False,   # make a guess of the sensitivity scale, for options check flarestack.cluster.submitter\n",
    "    remove_old_results=True,                 # if you are running the analysis again and something changed, maybe you want to remove old trials?\n",
    "#   **cluster_kwargs                         # keyword arguments used when running the cluster, This depends on the cluster obviously\n",
    ")"
   ]
  },
  {
   "cell_type": "code",
   "execution_count": null,
   "metadata": {
    "scrolled": true
   },
   "outputs": [],
   "source": [
    "submitter.analyse()"
   ]
  },
  {
   "cell_type": "code",
   "execution_count": null,
   "metadata": {},
   "outputs": [],
   "source": [
    "results_handler_mcmc = ResultsHandler(submitter.mh_dict)"
   ]
  },
  {
   "cell_type": "code",
   "execution_count": null,
   "metadata": {},
   "outputs": [],
   "source": [
    "print(fr'sensitivity flux: {results_handler_mcmc.sensitivity:<10.2e} '\n",
    "      fr'+{results_handler_mcmc.sensitivity_err[1]:<10.2e} '\n",
    "      fr'-{results_handler_mcmc.sensitivity_err[0]:<10.2e}')\n",
    "print(f'reference: {reference_sensitivity(sindec)[0]:>15.2e}')\n",
    "print(fr'sensitivity n_s:  {results_handler_mcmc.sensitivity * results_handler_mcmc.flux_to_ns:<10.2e} '\n",
    "      fr'+{results_handler_mcmc.sensitivity_err[1] * results_handler_mcmc.flux_to_ns:<9.4f}  '\n",
    "      fr'-{results_handler_mcmc.sensitivity_err[0] * results_handler_mcmc.flux_to_ns:<9.4f}')"
   ]
  },
  {
   "cell_type": "markdown",
   "metadata": {},
   "source": [
    "## 4. MCMC Analysis Plots"
   ]
  },
  {
   "cell_type": "code",
   "execution_count": null,
   "metadata": {},
   "outputs": [],
   "source": [
    "import pickle\n",
    "import corner\n",
    "import matplotlib.pyplot as plt\n",
    "import matplotlib as mpl\n",
    "%matplotlib inline"
   ]
  },
  {
   "cell_type": "code",
   "execution_count": null,
   "metadata": {},
   "outputs": [],
   "source": [
    "mpl.rcParams['figure.dpi'] = 300"
   ]
  },
  {
   "cell_type": "code",
   "execution_count": null,
   "metadata": {
    "tags": []
   },
   "outputs": [],
   "source": [
    "mcmc_pickle_path = os.path.join(name_pickle_output_dir(name), 'chains.pkl')\n",
    "\n",
    "with open(mcmc_pickle_path, 'rb') as file:\n",
    "    mcmc_pickle = pickle.load(file)\n",
    "    \n",
    "mcmc_pickle.shape"
   ]
  },
  {
   "cell_type": "code",
   "execution_count": null,
   "metadata": {},
   "outputs": [],
   "source": [
    "def labels(name):\n",
    "    corner_labels = []\n",
    "    for source in range(len(catalogue)):\n",
    "        corner_label = catalogue[source]['source_name'].decode()\n",
    "        corner_labels.append('n_s: ' + corner_label)\n",
    "    corner_labels.append('gamma')\n",
    "    \n",
    "    return corner_labels"
   ]
  },
  {
   "cell_type": "markdown",
   "metadata": {},
   "source": [
    "### Corner Plot"
   ]
  },
  {
   "cell_type": "code",
   "execution_count": null,
   "metadata": {},
   "outputs": [],
   "source": [
    "def corner_plot(name, save_fig=False, **kwargs):\n",
    "    \n",
    "    corner_labels = labels(name)\n",
    "\n",
    "    truths = np.append(scale / 3, injection_energy['gamma'])\n",
    "    \n",
    "    corner_kwargs = dict(\n",
    "        bins=30,\n",
    "        labels=corner_labels,\n",
    "        quantiles=[0.16, 0.5, 0.84],\n",
    "        truths=truths,\n",
    "        use_math_text=True,\n",
    "        show_titles=True, \n",
    "        title_kwargs={\"fontsize\": 10},\n",
    "        truth_color='#4682b4',\n",
    "        plot_datapoints=False, \n",
    "        fill_contours=True,\n",
    "    )\n",
    "    \n",
    "    for key, value in kwargs.items():\n",
    "        corner_kwargs[key] = value\n",
    "    \n",
    "    ndim = len(catalogue) + 1\n",
    "    \n",
    "    reshaped_steps = mcmc_pickle.reshape((-1,ndim))\n",
    "    \n",
    "    fig = corner.corner(reshaped_steps, \n",
    "                        **corner_kwargs)\n",
    "    \n",
    "    if save_fig:\n",
    "        plt.savefig(os.path.join(plot_output_dir(name), 'corner.png'))"
   ]
  },
  {
   "cell_type": "code",
   "execution_count": null,
   "metadata": {},
   "outputs": [],
   "source": [
    "corner_plot(name, save_fig=True)"
   ]
  },
  {
   "cell_type": "markdown",
   "metadata": {},
   "source": [
    "### Walker Steps"
   ]
  },
  {
   "cell_type": "code",
   "execution_count": null,
   "metadata": {},
   "outputs": [],
   "source": [
    "def walker_plot(name, n_steps=len(mcmc_pickle), save_fig=False):\n",
    "    ndim = len(catalogue) + 1\n",
    "    fig, axes = plt.subplots(ndim, figsize=(15, 8), sharex=True)\n",
    "    # samples = sampler.get_chain()\n",
    "    walker_labels = labels(name)\n",
    "    for i in range(ndim):\n",
    "        ax = axes[i]\n",
    "        ax.plot(mcmc_pickle[:, :, i], \"k\", alpha=0.1)\n",
    "        ax.set_xlim(0, len(mcmc_pickle[:n_steps]))\n",
    "        ax.set_ylabel(walker_labels[i], rotation=0, ha='right')\n",
    "        ax.yaxis.set_label_coords(-0.05, 0.5)\n",
    "\n",
    "    axes[-1].set_xlabel(\"step number\")\n",
    "    fig.tight_layout\n",
    "    \n",
    "    if save_fig:\n",
    "        plt.savefig(os.path.join(plot_output_dir(name), 'walkers.png'))"
   ]
  },
  {
   "cell_type": "code",
   "execution_count": null,
   "metadata": {},
   "outputs": [],
   "source": [
    "walker_plot(name, save_fig=True)"
   ]
  }
 ],
 "metadata": {
  "kernelspec": {
   "display_name": "Python 3 (ipykernel)",
   "language": "python",
   "name": "python3"
  },
  "language_info": {
   "codemirror_mode": {
    "name": "ipython",
    "version": 3
   },
   "file_extension": ".py",
   "mimetype": "text/x-python",
   "name": "python",
   "nbconvert_exporter": "python",
   "pygments_lexer": "ipython3",
   "version": "3.10.4"
  }
 },
 "nbformat": 4,
 "nbformat_minor": 4
}
